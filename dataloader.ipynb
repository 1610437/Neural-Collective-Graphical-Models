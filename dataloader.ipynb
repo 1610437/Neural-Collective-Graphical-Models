{
 "cells": [
  {
   "cell_type": "code",
   "execution_count": 2,
   "metadata": {},
   "outputs": [],
   "source": [
    "import torch\n",
    "import tqdm"
   ]
  },
  {
   "cell_type": "code",
   "execution_count": 3,
   "metadata": {},
   "outputs": [],
   "source": [
    "class Data_loader():\n",
    "    def __init__(self, population_data, location, time_size, location_size, device):\n",
    "        self.input_list = []\n",
    "        self.population_list = []\n",
    "        self.device = device\n",
    "        \n",
    "        for t in tqdm.trange(time_size):\n",
    "            input_list_tmp = []\n",
    "            for l in range(location_size):\n",
    "                input_tmp = []\n",
    "                for ll in range(location_size):\n",
    "                    input_tmp.append([t / float(time_size) - 0.5, location[l][0], location[l][1], location[ll][0] - location[l][0], location[ll][1] - location[l][1]])\n",
    "                input_list_tmp.append(input_tmp)\n",
    "            self.input_list.append(torch.tensor(input_list_tmp, dtype=torch.double))\n",
    "            self.population_list.append(torch.tensor(population_data[t], dtype=torch.double))\n",
    "    \n",
    "    def get_t_input(self, t):\n",
    "        return self.input_list[t].to(self.device), self.population_list[t].to(self.device), self.population_list[t + 1].to(self.device)"
   ]
  }
 ],
 "metadata": {
  "kernelspec": {
   "display_name": "Python 3",
   "language": "python",
   "name": "python3"
  },
  "language_info": {
   "codemirror_mode": {
    "name": "ipython",
    "version": 3
   },
   "file_extension": ".py",
   "mimetype": "text/x-python",
   "name": "python",
   "nbconvert_exporter": "python",
   "pygments_lexer": "ipython3",
   "version": "3.7.4"
  }
 },
 "nbformat": 4,
 "nbformat_minor": 2
}
