{
 "cells": [
  {
   "cell_type": "code",
   "execution_count": 1,
   "metadata": {},
   "outputs": [],
   "source": [
    "import torch\n",
    "import torch.nn as nn"
   ]
  },
  {
   "cell_type": "code",
   "execution_count": 2,
   "metadata": {},
   "outputs": [],
   "source": [
    "digit=1000"
   ]
  },
  {
   "cell_type": "code",
   "execution_count": 3,
   "metadata": {},
   "outputs": [],
   "source": [
    "class NCGM(nn.Module):\n",
    "    def __init__(self, input_size, hidden_size,z):\n",
    "        super(NCGM, self).__init__()\n",
    "\n",
    "        #Dimention of input layer\n",
    "        self.input_size = input_size\n",
    "        #Dimention of hidden layer\n",
    "        self.hidden_size = hidden_size\n",
    "        #People flow parameter\n",
    "        self.Z = nn.Parameter(z/digit)\n",
    "        \n",
    "        #Network for solving θ\n",
    "        self.fc1 = nn.Linear(self.input_size, self.hidden_size)\n",
    "        self.fc2 = nn.Linear(self.hidden_size, 1)\n",
    "        self.softmax = nn.Softmax(1)\n",
    "\n",
    "    def forward(self, input):\n",
    "        out = self.fc1(input).tanh()\n",
    "        out = self.fc2(out)\n",
    "        out = self.softmax(out)\n",
    "        theta = out.squeeze()\n",
    "        return theta"
   ]
  },
  {
   "cell_type": "code",
   "execution_count": 4,
   "metadata": {},
   "outputs": [],
   "source": [
    "class NCGM_objective(nn.Module):\n",
    "    def __init__(self, location_size,adj_table):\n",
    "        super(NCGM_objective, self).__init__()\n",
    "\n",
    "        #Number of areas\n",
    "        self.L = location_size\n",
    "        #Neighbour matrix\n",
    "        self.adj_table=adj_table\n",
    "        \n",
    "        #Loss functions\n",
    "        self.mse_loss_t = nn.MSELoss(reduction='sum')\n",
    "        self.mse_loss_t1 = nn.MSELoss(reduction='sum')\n",
    "    \n",
    "    def forward(self, theta, Z, yt, yt1, lam):\n",
    "        \n",
    "        #Set lower limit\n",
    "        theta_log = theta.clamp(min=3.7835e-10).log()\n",
    "        Z_log = Z.clamp(min=3.7835e-10).log()\n",
    "        #theta_log = theta.clamp(min=1.0e-4).log()\n",
    "        #Z_log = Z.clamp(min=1.0e-4).log()\n",
    "        #Figure out L' (while obj_arr is a square matrix and obj_L is scalar)\n",
    "        obj_arr = Z.mul(theta_log.add(1).add(-1, Z_log))\n",
    "        obj_L=0\n",
    "        Z1=torch.zeros(self.L,dtype=torch.double)\n",
    "        Z2=torch.zeros(self.L,dtype=torch.double)\n",
    "        \n",
    "        #Sum up every elements in obj_arr under adj_table\n",
    "        #Sum up every lows in Z to make transposed matrix under adj_table\n",
    "        obj_arr=obj_arr*self.adj_table\n",
    "        Z=Z*self.adj_table\n",
    "        obj_L=obj_arr.sum()\n",
    "        Z1=Z.sum(axis=1)\n",
    "        Z2=Z.sum(axis=0)\n",
    "\n",
    "        #Limit for people from other areas\n",
    "        et = self.mse_loss_t(yt/digit, Z1)\n",
    "        #Limit for people to other areas\n",
    "        et1 = self.mse_loss_t1(yt1/digit, Z2)\n",
    "        \n",
    "        #Figure out G\n",
    "        G = obj_L.add(-1*lam, et.add(1, et1))\n",
    "        \n",
    "        #Multiple -1 to G\n",
    "        return G.neg()"
   ]
  }
 ],
 "metadata": {
  "kernelspec": {
   "display_name": "Python 3",
   "language": "python",
   "name": "python3"
  },
  "language_info": {
   "codemirror_mode": {
    "name": "ipython",
    "version": 3
   },
   "file_extension": ".py",
   "mimetype": "text/x-python",
   "name": "python",
   "nbconvert_exporter": "python",
   "pygments_lexer": "ipython3",
   "version": "3.7.4"
  }
 },
 "nbformat": 4,
 "nbformat_minor": 2
}
