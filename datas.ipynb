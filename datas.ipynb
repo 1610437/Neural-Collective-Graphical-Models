{
 "cells": [
  {
   "cell_type": "code",
   "execution_count": 1,
   "metadata": {},
   "outputs": [],
   "source": [
    "import csv\n",
    "from pathlib import Path\n",
    "import torch"
   ]
  },
  {
   "cell_type": "code",
   "execution_count": 2,
   "metadata": {},
   "outputs": [],
   "source": [
    "def read_data(dpath, filename, make_adj_list):\n",
    "    with open(str(dpath / filename), 'rt', newline='', encoding='utf-8') as csvfile:\n",
    "        reader = csv.DictReader(csvfile)\n",
    "        population_data = []\n",
    "        pop_tmp = []\n",
    "        time = 0\n",
    "        for row in reader:\n",
    "            if time != int(row[\"time\"]):\n",
    "                population_data.append(pop_tmp)\n",
    "                pop_tmp = []\n",
    "                time = int(row[\"time\"])\n",
    "            pop_tmp.append(int(row[\"population\"]))\n",
    "        if pop_tmp != []:\n",
    "            population_data.append(pop_tmp)\n",
    "    \n",
    "    with open(str(dpath / \"chohu_adj.csv\"), 'rt', newline='', encoding='utf-8') as csvfile:\n",
    "        reader = csv.reader(csvfile)\n",
    "        adj = [[int(col) for col in row] for row in reader]\n",
    "    \n",
    "    with open(str(dpath / \"chohu_xy.csv\"), 'rt', newline='', encoding='utf-8') as csvfile:\n",
    "        reader = csv.reader(csvfile)\n",
    "        xy = [[float(col) for col in row] for row in reader]\n",
    "    \n",
    "    if make_adj_list:\n",
    "        build_adj_list(adj)\n",
    "\n",
    "    with open(str(dpath / \"chohu_adj_list.csv\"), 'rt', newline='', encoding='utf-8') as csvfile:\n",
    "        reader = csv.reader(csvfile)\n",
    "        neighbor = [[int(col) for col in row] for row in reader]\n",
    "    \n",
    "    return population_data, adj, xy, neighbor\n"
   ]
  },
  {
   "cell_type": "code",
   "execution_count": 3,
   "metadata": {},
   "outputs": [],
   "source": [
    "def read_sample():\n",
    "    with open(str(Path(\"datas\") / \"sample_population.csv\"), 'rt', newline='', encoding='utf-8') as csvfile:\n",
    "        reader = csv.reader(csvfile)\n",
    "        population_data = [[int(col) for col in row] for row in reader]\n",
    "        \n",
    "    location_table = [[-0.5, -0.5], [-0.5, 0.5], [0.5, -0.5], [0.5, 0.5]]\n",
    "    adj_table = [[1,1,1,0],[1,1,0,1],[1,0,1,1],[0,1,1,1]]\n",
    "\n",
    "    return population_data, location_table, adj_table"
   ]
  },
  {
   "cell_type": "code",
   "execution_count": 4,
   "metadata": {},
   "outputs": [],
   "source": [
    "def read_chofu():\n",
    "    with open(str(Path(\"datas\") / \"l_20160917.csv\"), 'rt', newline='', encoding='utf-8') as csvfile:\n",
    "        reader = csv.reader(csvfile)\n",
    "        population_data = [[int(col) for col in row] for row in reader]\n",
    "    \n",
    "    with open(str(Path(\"datas\") / \"adj33.csv\"), 'rt', newline='', encoding='utf-8') as csvfile:\n",
    "        reader = csv.reader(csvfile)\n",
    "        adj_table = torch.tensor([[int(col) for col in row] for row in reader],dtype=torch.double)\n",
    "        \n",
    "    with open(str(Path(\"datas\") / \"loc.csv\"), 'rt', newline='', encoding='utf-8') as csvfile:\n",
    "        reader = csv.reader(csvfile)\n",
    "        location_table = [[int(col) for col in row] for row in reader]\n",
    "        \n",
    "    with open(str(Path(\"datas\") / \"z33.csv\"), 'rt', newline='', encoding='utf-8') as csvfile:\n",
    "        reader = csv.reader(csvfile)\n",
    "        z_table = torch.tensor([[float(col) for col in row] for row in reader],dtype=torch.double)\n",
    "\n",
    "    return population_data, location_table, adj_table,z_table"
   ]
  },
  {
   "cell_type": "code",
   "execution_count": 5,
   "metadata": {},
   "outputs": [],
   "source": [
    "def build_adj_list(adj_table):\n",
    "    adj_list = []\n",
    "    for row in range(117):\n",
    "        tmp_list = []\n",
    "        for col in range(117):\n",
    "            if adj_table[row][col] == 1:\n",
    "                tmp_list.append(str(col))\n",
    "        adj_list.append(tmp_list)\n",
    "    \n",
    "    with open(str(Path(\"datas/chohu\") / \"chohu_adj_list.csv\"), 'wt', encoding='utf-8') as csv_file:\n",
    "        for i in range(117):\n",
    "            csv_file.write(','.join(adj_list[i]))\n",
    "            csv_file.write('\\n')"
   ]
  },
  {
   "cell_type": "code",
   "execution_count": null,
   "metadata": {},
   "outputs": [],
   "source": []
  }
 ],
 "metadata": {
  "kernelspec": {
   "display_name": "Python 3",
   "language": "python",
   "name": "python3"
  },
  "language_info": {
   "codemirror_mode": {
    "name": "ipython",
    "version": 3
   },
   "file_extension": ".py",
   "mimetype": "text/x-python",
   "name": "python",
   "nbconvert_exporter": "python",
   "pygments_lexer": "ipython3",
   "version": "3.7.4"
  }
 },
 "nbformat": 4,
 "nbformat_minor": 2
}
